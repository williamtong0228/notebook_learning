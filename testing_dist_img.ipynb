{
 "cells": [
  {
   "cell_type": "code",
   "execution_count": 1,
   "metadata": {},
   "outputs": [],
   "source": [
    "from os import listdir, makedirs\n",
    "from os.path import isfile, join, exists"
   ]
  },
  {
   "cell_type": "code",
   "execution_count": 2,
   "metadata": {},
   "outputs": [],
   "source": [
    "import numpy as np\n",
    "import matplotlib.pyplot as plt\n",
    "from matplotlib.pyplot import imread\n",
    "import matplotlib.image as mpimg\n",
    "import cv2\n",
    "import os"
   ]
  },
  {
   "cell_type": "code",
   "execution_count": 3,
   "metadata": {},
   "outputs": [],
   "source": [
    "scale = 6.0\n",
    "input_size = 33\n",
    "label_size = 21\n",
    "pad = int((input_size - label_size) / 2)\n",
    "stride = 14"
   ]
  },
  {
   "cell_type": "code",
   "execution_count": 4,
   "metadata": {},
   "outputs": [],
   "source": [
    "path = os.path.join(os.environ['HOME'],'downloads')\n",
    "train_path = os.path.join(os.environ['HOME'],'downloads','train')\n",
    "# image = cv2.imread(path + '/emoji.png')"
   ]
  },
  {
   "cell_type": "code",
   "execution_count": 5,
   "metadata": {},
   "outputs": [],
   "source": [
    "# w,h,c = image.shape"
   ]
  },
  {
   "cell_type": "code",
   "execution_count": 6,
   "metadata": {},
   "outputs": [],
   "source": [
    "# w -= w%3\n",
    "# h -= h%3\n",
    "# image = image[0:w, 0:h]\n"
   ]
  },
  {
   "cell_type": "code",
   "execution_count": 7,
   "metadata": {},
   "outputs": [],
   "source": [
    "# cv2.imshow('showimage',image)\n",
    "# cv2.waitKey(0)"
   ]
  },
  {
   "cell_type": "code",
   "execution_count": 8,
   "metadata": {},
   "outputs": [],
   "source": [
    "# cv2.destroyAllWindows()\n",
    "# cv2.waitKey(1)"
   ]
  },
  {
   "cell_type": "code",
   "execution_count": 9,
   "metadata": {},
   "outputs": [],
   "source": [
    "from PIL import Image"
   ]
  },
  {
   "cell_type": "code",
   "execution_count": 10,
   "metadata": {},
   "outputs": [],
   "source": [
    "def drop_res(x,scale):\n",
    "    \n",
    "    size = (x.shape[0], x.shape[1])\n",
    "    shrunk_size = (int(size[0]/scale),int(size[1]/scale))\n",
    "\n",
    "    shrunk_img = cv2.resize(image,(shrunk_size),interpolation=cv2.INTER_NEAREST)\n",
    "    lr_img =  cv2.resize(shrunk_img,(size),interpolation=cv2.INTER_NEAREST)\n",
    "    \n",
    "    return lr_img\n",
    "\n",
    "\n"
   ]
  },
  {
   "cell_type": "code",
   "execution_count": 12,
   "metadata": {},
   "outputs": [],
   "source": [
    "# lr_img = drop_res(image,scale)\n",
    "# count = 0"
   ]
  },
  {
   "cell_type": "code",
   "execution_count": 13,
   "metadata": {},
   "outputs": [],
   "source": [
    "if not exists(join(os.environ['HOME'],'downloads', \"output\")):\n",
    "    makedirs(join(os.environ['HOME'],'downloads', \"output\"))\n",
    "if not exists(join(os.environ['HOME'],'downloads', \"input\")):\n",
    "    makedirs(join(os.environ['HOME'],'downloads', \"input\"))\n",
    "if not exists(join(os.environ['HOME'],'downloads', \"label\")):\n",
    "    makedirs(join(os.environ['HOME'],'downloads', \"label\"))"
   ]
  },
  {
   "cell_type": "code",
   "execution_count": 14,
   "metadata": {},
   "outputs": [],
   "source": [
    "# for i in range(0, h - input_size + 1, stride):\n",
    "#         for j in range(0, w - input_size + 1, stride):\n",
    "#             sub_img = lr_img[j : j + input_size, i : i + input_size]\n",
    "#             sub_img_label = image[j + pad : j + pad + label_size, i + pad : i + pad + label_size]\n",
    "#             cv2.imwrite(join(path, \"input\", str(count) + '.png'), sub_img)\n",
    "#             cv2.imwrite(join(path, \"label\", str(count) + '.png'), sub_img_label)\n",
    "# #             print(join(path, \"label\", str(count) + '.png'))\n",
    "\n",
    "#             count += 1"
   ]
  },
  {
   "cell_type": "code",
   "execution_count": 15,
   "metadata": {},
   "outputs": [],
   "source": [
    "count = 1\n",
    "for f in listdir(train_path):\n",
    "    f = join(train_path, f)\n",
    "#     print(f)\n",
    "    \n",
    "    \n",
    "    if not isfile(f):\n",
    "        continue\n",
    "    \n",
    "    image = cv2.imread(f)\n",
    "    w,h,c = image.shape\n",
    "    w -= w%3\n",
    "    h -= h%3\n",
    "    image = image[0:w, 0:h]\n",
    "    lr_img = drop_res(image,scale)\n",
    "        \n",
    "    for i in range(0, h - input_size + 1, stride):\n",
    "        for j in range(0, w - input_size + 1, stride):\n",
    "            sub_img = lr_img[j : j + input_size, i : i + input_size]\n",
    "            sub_img_label = image[j + pad : j + pad + label_size, i + pad : i + pad + label_size]\n",
    "            cv2.imwrite(join(path, \"input\", str(count) + '.png'), sub_img)\n",
    "            cv2.imwrite(join(path, \"label\", str(count) + '.png'), sub_img_label)\n",
    "#             print(join(path, \"label\", str(count) + '.png'))\n",
    "\n",
    "            count += 1"
   ]
  },
  {
   "cell_type": "code",
   "execution_count": null,
   "metadata": {},
   "outputs": [],
   "source": []
  }
 ],
 "metadata": {
  "kernelspec": {
   "display_name": "Python 3",
   "language": "python",
   "name": "python3"
  },
  "language_info": {
   "codemirror_mode": {
    "name": "ipython",
    "version": 3
   },
   "file_extension": ".py",
   "mimetype": "text/x-python",
   "name": "python",
   "nbconvert_exporter": "python",
   "pygments_lexer": "ipython3",
   "version": "3.7.4"
  }
 },
 "nbformat": 4,
 "nbformat_minor": 2
}
